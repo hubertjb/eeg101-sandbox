{
 "cells": [
  {
   "cell_type": "markdown",
   "metadata": {},
   "source": [
    "# Example plots"
   ]
  },
  {
   "cell_type": "code",
   "execution_count": 2,
   "metadata": {
    "collapsed": false
   },
   "outputs": [],
   "source": [
    "import numpy as np\n",
    "import pandas as pd\n",
    "import seaborn as sns\n",
    "import matplotlib.pylab as plt\n",
    "%matplotlib inline"
   ]
  },
  {
   "cell_type": "markdown",
   "metadata": {},
   "source": [
    "## Slide 9 - Distribution of training data"
   ]
  },
  {
   "cell_type": "code",
   "execution_count": 12,
   "metadata": {
    "collapsed": true
   },
   "outputs": [],
   "source": [
    "def dot_plot(x, labels, step=1):\n",
    "    \"\"\"\n",
    "    Make a 1D dot plot.\n",
    "    \n",
    "    Inputs\n",
    "     x      : 1D array containing the points to plot\n",
    "     labels : 1D array containing the label for each point in x\n",
    "     step   : vertical space between two points\n",
    "     \n",
    "    \"\"\"\n",
    "    \n",
    "    # Get the histogram for each class\n",
    "    classes = np.unique(labels)\n",
    "    hist = [np.histogram(x[labels==c], density=True) for c in classes]\n",
    "    \n",
    "    # Prepare the figure\n",
    "    fig, ax = plt.subplots(figsize=(12,6))\n",
    "    for hi, h in enumerate(hist):\n",
    "        bin_centers = (h[1][1:] + h[1][0:-1])/2. # Get bin centers\n",
    "        \n",
    "        # Format the data so that each bin has as many points as the histogram bar for that bin\n",
    "        x1 = []\n",
    "        y1 = []\n",
    "        for i, j in zip(np.round(h[0]).astype(int), bin_centers):\n",
    "            y = range(0, i, step)\n",
    "            y1 += y\n",
    "            x1 += [j]*len(y)\n",
    "            \n",
    "        # Plot\n",
    "        ax.plot(x1, (-1)**hi*np.array(y1), 'o', markersize=10, label=classes[hi])\n",
    "        ax.legend(scatterpoints=1)\n",
    "        ax.set_xlabel('Alpha power')\n",
    "        ax.set_ylabel('Number of points')\n",
    "                \n",
    "    ax.set_yticklabels([])\n",
    "    ax.set_yticks([])\n",
    "    ax.legend()\n",
    "    plt.tight_layout()"
   ]
  },
  {
   "cell_type": "code",
   "execution_count": 11,
   "metadata": {
    "collapsed": false
   },
   "outputs": [
    {
     "data": {
      "image/png": "[encoded data removed]",
      "text/plain": [
       "<matplotlib.figure.Figure at 0x7f8ff794ddd0>"
      ]
     },
     "metadata": {},
     "output_type": "display_data"
    }
   ],
   "source": [
    "# Generate fake data\n",
    "nb_points = 10*10\n",
    "relax_data = np.random.normal(0.01, 0.01, size=(nb_points,))\n",
    "focus_data = np.random.normal(0.03, 0.01, size=(nb_points,))\n",
    "\n",
    "dot_plot(x=np.concatenate((relax_data, focus_data)), \n",
    "         labels=np.concatenate((np.zeros((nb_points,)), np.ones((nb_points,)))),\n",
    "         step=4)"
   ]
  },
  {
   "cell_type": "code",
   "execution_count": null,
   "metadata": {
    "collapsed": true
   },
   "outputs": [],
   "source": []
  }
 ],
 "metadata": {
  "kernelspec": {
   "display_name": "Python 2",
   "language": "python",
   "name": "python2"
  },
  "language_info": {
   "codemirror_mode": {
    "name": "ipython",
    "version": 2
   },
   "file_extension": ".py",
   "mimetype": "text/x-python",
   "name": "python",
   "nbconvert_exporter": "python",
   "pygments_lexer": "ipython2",
   "version": "2.7.6"
  }
 },
 "nbformat": 4,
 "nbformat_minor": 0
}
